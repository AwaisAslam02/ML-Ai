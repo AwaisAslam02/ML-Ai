{
  "cells": [
    {
      "cell_type": "code",
      "execution_count": null,
      "metadata": {
        "id": "QZTtYqeEnHLq"
      },
      "outputs": [],
      "source": [
        "import pandas as pd"
      ]
    },
    {
      "cell_type": "code",
      "source": [
        "#from google.colab import drive\n",
        "#drive.mount('/content/drive')"
      ],
      "metadata": {
        "id": "FV7krxxZiICm"
      },
      "execution_count": null,
      "outputs": []
    },
    {
      "cell_type": "code",
      "execution_count": null,
      "metadata": {
        "id": "WgoH70VjnO8I"
      },
      "outputs": [],
      "source": [
        "#data=pd.read_csv('/content/drive/MyDrive/data_mining_project/preprocessed_data.csv')"
      ]
    },
    {
      "cell_type": "code",
      "source": [
        "data=pd.read_csv('/content/diabetic_data (1).csv')"
      ],
      "metadata": {
        "id": "fx14bLKDWV3k"
      },
      "execution_count": null,
      "outputs": []
    },
    {
      "cell_type": "code",
      "execution_count": null,
      "metadata": {
        "colab": {
          "base_uri": "https://localhost:8080/",
          "height": 226
        },
        "id": "PHHhHXeOnTN3",
        "outputId": "48c64144-1ee3-4ea6-ba0d-28a85da664d1"
      },
      "outputs": [
        {
          "output_type": "execute_result",
          "data": {
            "text/plain": [
              "        age  discharge_disposition  admission_source  time_in_hospital  \\\n",
              "0  0.000000                     23                 5          0.000000   \n",
              "1  0.111111                     15                 1          0.153846   \n",
              "2  0.222222                     15                 1          0.076923   \n",
              "3  0.333333                     15                 1          0.076923   \n",
              "4  0.444444                     15                 1          0.000000   \n",
              "\n",
              "   num_lab_procedures  num_procedures  num_medications  number_outpatient  \\\n",
              "0            0.305344        0.000000           0.0000           0.000000   \n",
              "1            0.442748        0.000000           0.2125           0.000000   \n",
              "2            0.076336        0.833333           0.1500           0.047619   \n",
              "3            0.328244        0.166667           0.1875           0.000000   \n",
              "4            0.381679        0.000000           0.0875           0.000000   \n",
              "\n",
              "   number_emergency  number_inpatient  number_diagnoses  metformin  \\\n",
              "0               0.0          0.000000          0.000000          1   \n",
              "1               0.0          0.000000          0.533333          1   \n",
              "2               0.0          0.047619          0.333333          1   \n",
              "3               0.0          0.000000          0.400000          1   \n",
              "4               0.0          0.000000          0.266667          1   \n",
              "\n",
              "   glimepiride  pioglitazone  rosiglitazone  acarbose  change  diabetesMed  \\\n",
              "0            1             1              1         1       1            0   \n",
              "1            1             1              1         1       0            1   \n",
              "2            1             1              1         1       1            1   \n",
              "3            1             1              1         1       0            1   \n",
              "4            1             1              1         1       0            1   \n",
              "\n",
              "   readmitted  \n",
              "0           2  \n",
              "1           1  \n",
              "2           2  \n",
              "3           2  \n",
              "4           2  "
            ],
            "text/html": [
              "\n",
              "  <div id=\"df-6bac0503-2809-4a14-9f7a-7099064ab6d8\" class=\"colab-df-container\">\n",
              "    <div>\n",
              "<style scoped>\n",
              "    .dataframe tbody tr th:only-of-type {\n",
              "        vertical-align: middle;\n",
              "    }\n",
              "\n",
              "    .dataframe tbody tr th {\n",
              "        vertical-align: top;\n",
              "    }\n",
              "\n",
              "    .dataframe thead th {\n",
              "        text-align: right;\n",
              "    }\n",
              "</style>\n",
              "<table border=\"1\" class=\"dataframe\">\n",
              "  <thead>\n",
              "    <tr style=\"text-align: right;\">\n",
              "      <th></th>\n",
              "      <th>age</th>\n",
              "      <th>discharge_disposition</th>\n",
              "      <th>admission_source</th>\n",
              "      <th>time_in_hospital</th>\n",
              "      <th>num_lab_procedures</th>\n",
              "      <th>num_procedures</th>\n",
              "      <th>num_medications</th>\n",
              "      <th>number_outpatient</th>\n",
              "      <th>number_emergency</th>\n",
              "      <th>number_inpatient</th>\n",
              "      <th>number_diagnoses</th>\n",
              "      <th>metformin</th>\n",
              "      <th>glimepiride</th>\n",
              "      <th>pioglitazone</th>\n",
              "      <th>rosiglitazone</th>\n",
              "      <th>acarbose</th>\n",
              "      <th>change</th>\n",
              "      <th>diabetesMed</th>\n",
              "      <th>readmitted</th>\n",
              "    </tr>\n",
              "  </thead>\n",
              "  <tbody>\n",
              "    <tr>\n",
              "      <th>0</th>\n",
              "      <td>0.000000</td>\n",
              "      <td>23</td>\n",
              "      <td>5</td>\n",
              "      <td>0.000000</td>\n",
              "      <td>0.305344</td>\n",
              "      <td>0.000000</td>\n",
              "      <td>0.0000</td>\n",
              "      <td>0.000000</td>\n",
              "      <td>0.0</td>\n",
              "      <td>0.000000</td>\n",
              "      <td>0.000000</td>\n",
              "      <td>1</td>\n",
              "      <td>1</td>\n",
              "      <td>1</td>\n",
              "      <td>1</td>\n",
              "      <td>1</td>\n",
              "      <td>1</td>\n",
              "      <td>0</td>\n",
              "      <td>2</td>\n",
              "    </tr>\n",
              "    <tr>\n",
              "      <th>1</th>\n",
              "      <td>0.111111</td>\n",
              "      <td>15</td>\n",
              "      <td>1</td>\n",
              "      <td>0.153846</td>\n",
              "      <td>0.442748</td>\n",
              "      <td>0.000000</td>\n",
              "      <td>0.2125</td>\n",
              "      <td>0.000000</td>\n",
              "      <td>0.0</td>\n",
              "      <td>0.000000</td>\n",
              "      <td>0.533333</td>\n",
              "      <td>1</td>\n",
              "      <td>1</td>\n",
              "      <td>1</td>\n",
              "      <td>1</td>\n",
              "      <td>1</td>\n",
              "      <td>0</td>\n",
              "      <td>1</td>\n",
              "      <td>1</td>\n",
              "    </tr>\n",
              "    <tr>\n",
              "      <th>2</th>\n",
              "      <td>0.222222</td>\n",
              "      <td>15</td>\n",
              "      <td>1</td>\n",
              "      <td>0.076923</td>\n",
              "      <td>0.076336</td>\n",
              "      <td>0.833333</td>\n",
              "      <td>0.1500</td>\n",
              "      <td>0.047619</td>\n",
              "      <td>0.0</td>\n",
              "      <td>0.047619</td>\n",
              "      <td>0.333333</td>\n",
              "      <td>1</td>\n",
              "      <td>1</td>\n",
              "      <td>1</td>\n",
              "      <td>1</td>\n",
              "      <td>1</td>\n",
              "      <td>1</td>\n",
              "      <td>1</td>\n",
              "      <td>2</td>\n",
              "    </tr>\n",
              "    <tr>\n",
              "      <th>3</th>\n",
              "      <td>0.333333</td>\n",
              "      <td>15</td>\n",
              "      <td>1</td>\n",
              "      <td>0.076923</td>\n",
              "      <td>0.328244</td>\n",
              "      <td>0.166667</td>\n",
              "      <td>0.1875</td>\n",
              "      <td>0.000000</td>\n",
              "      <td>0.0</td>\n",
              "      <td>0.000000</td>\n",
              "      <td>0.400000</td>\n",
              "      <td>1</td>\n",
              "      <td>1</td>\n",
              "      <td>1</td>\n",
              "      <td>1</td>\n",
              "      <td>1</td>\n",
              "      <td>0</td>\n",
              "      <td>1</td>\n",
              "      <td>2</td>\n",
              "    </tr>\n",
              "    <tr>\n",
              "      <th>4</th>\n",
              "      <td>0.444444</td>\n",
              "      <td>15</td>\n",
              "      <td>1</td>\n",
              "      <td>0.000000</td>\n",
              "      <td>0.381679</td>\n",
              "      <td>0.000000</td>\n",
              "      <td>0.0875</td>\n",
              "      <td>0.000000</td>\n",
              "      <td>0.0</td>\n",
              "      <td>0.000000</td>\n",
              "      <td>0.266667</td>\n",
              "      <td>1</td>\n",
              "      <td>1</td>\n",
              "      <td>1</td>\n",
              "      <td>1</td>\n",
              "      <td>1</td>\n",
              "      <td>0</td>\n",
              "      <td>1</td>\n",
              "      <td>2</td>\n",
              "    </tr>\n",
              "  </tbody>\n",
              "</table>\n",
              "</div>\n",
              "    <div class=\"colab-df-buttons\">\n",
              "\n",
              "  <div class=\"colab-df-container\">\n",
              "    <button class=\"colab-df-convert\" onclick=\"convertToInteractive('df-6bac0503-2809-4a14-9f7a-7099064ab6d8')\"\n",
              "            title=\"Convert this dataframe to an interactive table.\"\n",
              "            style=\"display:none;\">\n",
              "\n",
              "  <svg xmlns=\"http://www.w3.org/2000/svg\" height=\"24px\" viewBox=\"0 -960 960 960\">\n",
              "    <path d=\"M120-120v-720h720v720H120Zm60-500h600v-160H180v160Zm220 220h160v-160H400v160Zm0 220h160v-160H400v160ZM180-400h160v-160H180v160Zm440 0h160v-160H620v160ZM180-180h160v-160H180v160Zm440 0h160v-160H620v160Z\"/>\n",
              "  </svg>\n",
              "    </button>\n",
              "\n",
              "  <style>\n",
              "    .colab-df-container {\n",
              "      display:flex;\n",
              "      gap: 12px;\n",
              "    }\n",
              "\n",
              "    .colab-df-convert {\n",
              "      background-color: #E8F0FE;\n",
              "      border: none;\n",
              "      border-radius: 50%;\n",
              "      cursor: pointer;\n",
              "      display: none;\n",
              "      fill: #1967D2;\n",
              "      height: 32px;\n",
              "      padding: 0 0 0 0;\n",
              "      width: 32px;\n",
              "    }\n",
              "\n",
              "    .colab-df-convert:hover {\n",
              "      background-color: #E2EBFA;\n",
              "      box-shadow: 0px 1px 2px rgba(60, 64, 67, 0.3), 0px 1px 3px 1px rgba(60, 64, 67, 0.15);\n",
              "      fill: #174EA6;\n",
              "    }\n",
              "\n",
              "    .colab-df-buttons div {\n",
              "      margin-bottom: 4px;\n",
              "    }\n",
              "\n",
              "    [theme=dark] .colab-df-convert {\n",
              "      background-color: #3B4455;\n",
              "      fill: #D2E3FC;\n",
              "    }\n",
              "\n",
              "    [theme=dark] .colab-df-convert:hover {\n",
              "      background-color: #434B5C;\n",
              "      box-shadow: 0px 1px 3px 1px rgba(0, 0, 0, 0.15);\n",
              "      filter: drop-shadow(0px 1px 2px rgba(0, 0, 0, 0.3));\n",
              "      fill: #FFFFFF;\n",
              "    }\n",
              "  </style>\n",
              "\n",
              "    <script>\n",
              "      const buttonEl =\n",
              "        document.querySelector('#df-6bac0503-2809-4a14-9f7a-7099064ab6d8 button.colab-df-convert');\n",
              "      buttonEl.style.display =\n",
              "        google.colab.kernel.accessAllowed ? 'block' : 'none';\n",
              "\n",
              "      async function convertToInteractive(key) {\n",
              "        const element = document.querySelector('#df-6bac0503-2809-4a14-9f7a-7099064ab6d8');\n",
              "        const dataTable =\n",
              "          await google.colab.kernel.invokeFunction('convertToInteractive',\n",
              "                                                    [key], {});\n",
              "        if (!dataTable) return;\n",
              "\n",
              "        const docLinkHtml = 'Like what you see? Visit the ' +\n",
              "          '<a target=\"_blank\" href=https://colab.research.google.com/notebooks/data_table.ipynb>data table notebook</a>'\n",
              "          + ' to learn more about interactive tables.';\n",
              "        element.innerHTML = '';\n",
              "        dataTable['output_type'] = 'display_data';\n",
              "        await google.colab.output.renderOutput(dataTable, element);\n",
              "        const docLink = document.createElement('div');\n",
              "        docLink.innerHTML = docLinkHtml;\n",
              "        element.appendChild(docLink);\n",
              "      }\n",
              "    </script>\n",
              "  </div>\n",
              "\n",
              "\n",
              "<div id=\"df-3049776c-008b-4a30-a317-0710360f8994\">\n",
              "  <button class=\"colab-df-quickchart\" onclick=\"quickchart('df-3049776c-008b-4a30-a317-0710360f8994')\"\n",
              "            title=\"Suggest charts\"\n",
              "            style=\"display:none;\">\n",
              "\n",
              "<svg xmlns=\"http://www.w3.org/2000/svg\" height=\"24px\"viewBox=\"0 0 24 24\"\n",
              "     width=\"24px\">\n",
              "    <g>\n",
              "        <path d=\"M19 3H5c-1.1 0-2 .9-2 2v14c0 1.1.9 2 2 2h14c1.1 0 2-.9 2-2V5c0-1.1-.9-2-2-2zM9 17H7v-7h2v7zm4 0h-2V7h2v10zm4 0h-2v-4h2v4z\"/>\n",
              "    </g>\n",
              "</svg>\n",
              "  </button>\n",
              "\n",
              "<style>\n",
              "  .colab-df-quickchart {\n",
              "      --bg-color: #E8F0FE;\n",
              "      --fill-color: #1967D2;\n",
              "      --hover-bg-color: #E2EBFA;\n",
              "      --hover-fill-color: #174EA6;\n",
              "      --disabled-fill-color: #AAA;\n",
              "      --disabled-bg-color: #DDD;\n",
              "  }\n",
              "\n",
              "  [theme=dark] .colab-df-quickchart {\n",
              "      --bg-color: #3B4455;\n",
              "      --fill-color: #D2E3FC;\n",
              "      --hover-bg-color: #434B5C;\n",
              "      --hover-fill-color: #FFFFFF;\n",
              "      --disabled-bg-color: #3B4455;\n",
              "      --disabled-fill-color: #666;\n",
              "  }\n",
              "\n",
              "  .colab-df-quickchart {\n",
              "    background-color: var(--bg-color);\n",
              "    border: none;\n",
              "    border-radius: 50%;\n",
              "    cursor: pointer;\n",
              "    display: none;\n",
              "    fill: var(--fill-color);\n",
              "    height: 32px;\n",
              "    padding: 0;\n",
              "    width: 32px;\n",
              "  }\n",
              "\n",
              "  .colab-df-quickchart:hover {\n",
              "    background-color: var(--hover-bg-color);\n",
              "    box-shadow: 0 1px 2px rgba(60, 64, 67, 0.3), 0 1px 3px 1px rgba(60, 64, 67, 0.15);\n",
              "    fill: var(--button-hover-fill-color);\n",
              "  }\n",
              "\n",
              "  .colab-df-quickchart-complete:disabled,\n",
              "  .colab-df-quickchart-complete:disabled:hover {\n",
              "    background-color: var(--disabled-bg-color);\n",
              "    fill: var(--disabled-fill-color);\n",
              "    box-shadow: none;\n",
              "  }\n",
              "\n",
              "  .colab-df-spinner {\n",
              "    border: 2px solid var(--fill-color);\n",
              "    border-color: transparent;\n",
              "    border-bottom-color: var(--fill-color);\n",
              "    animation:\n",
              "      spin 1s steps(1) infinite;\n",
              "  }\n",
              "\n",
              "  @keyframes spin {\n",
              "    0% {\n",
              "      border-color: transparent;\n",
              "      border-bottom-color: var(--fill-color);\n",
              "      border-left-color: var(--fill-color);\n",
              "    }\n",
              "    20% {\n",
              "      border-color: transparent;\n",
              "      border-left-color: var(--fill-color);\n",
              "      border-top-color: var(--fill-color);\n",
              "    }\n",
              "    30% {\n",
              "      border-color: transparent;\n",
              "      border-left-color: var(--fill-color);\n",
              "      border-top-color: var(--fill-color);\n",
              "      border-right-color: var(--fill-color);\n",
              "    }\n",
              "    40% {\n",
              "      border-color: transparent;\n",
              "      border-right-color: var(--fill-color);\n",
              "      border-top-color: var(--fill-color);\n",
              "    }\n",
              "    60% {\n",
              "      border-color: transparent;\n",
              "      border-right-color: var(--fill-color);\n",
              "    }\n",
              "    80% {\n",
              "      border-color: transparent;\n",
              "      border-right-color: var(--fill-color);\n",
              "      border-bottom-color: var(--fill-color);\n",
              "    }\n",
              "    90% {\n",
              "      border-color: transparent;\n",
              "      border-bottom-color: var(--fill-color);\n",
              "    }\n",
              "  }\n",
              "</style>\n",
              "\n",
              "  <script>\n",
              "    async function quickchart(key) {\n",
              "      const quickchartButtonEl =\n",
              "        document.querySelector('#' + key + ' button');\n",
              "      quickchartButtonEl.disabled = true;  // To prevent multiple clicks.\n",
              "      quickchartButtonEl.classList.add('colab-df-spinner');\n",
              "      try {\n",
              "        const charts = await google.colab.kernel.invokeFunction(\n",
              "            'suggestCharts', [key], {});\n",
              "      } catch (error) {\n",
              "        console.error('Error during call to suggestCharts:', error);\n",
              "      }\n",
              "      quickchartButtonEl.classList.remove('colab-df-spinner');\n",
              "      quickchartButtonEl.classList.add('colab-df-quickchart-complete');\n",
              "    }\n",
              "    (() => {\n",
              "      let quickchartButtonEl =\n",
              "        document.querySelector('#df-3049776c-008b-4a30-a317-0710360f8994 button');\n",
              "      quickchartButtonEl.style.display =\n",
              "        google.colab.kernel.accessAllowed ? 'block' : 'none';\n",
              "    })();\n",
              "  </script>\n",
              "</div>\n",
              "    </div>\n",
              "  </div>\n"
            ],
            "application/vnd.google.colaboratory.intrinsic+json": {
              "type": "dataframe",
              "variable_name": "data"
            }
          },
          "metadata": {},
          "execution_count": 45
        }
      ],
      "source": [
        "data.head()"
      ]
    },
    {
      "cell_type": "code",
      "execution_count": null,
      "metadata": {
        "id": "fAlGSLTGnqDa"
      },
      "outputs": [],
      "source": [
        "\n",
        "\n",
        "from sklearn.model_selection import train_test_split\n",
        "\n",
        "X = data.drop('readmitted', axis=1)\n",
        "y = data['readmitted']\n",
        "\n",
        "X_train, X_test, y_train, y_test = train_test_split(X, y, test_size=0.2, random_state=42)\n"
      ]
    },
    {
      "cell_type": "markdown",
      "metadata": {
        "id": "QqJxwptBeaQR"
      },
      "source": [
        "##Random Forest"
      ]
    },
    {
      "cell_type": "code",
      "execution_count": null,
      "metadata": {
        "colab": {
          "base_uri": "https://localhost:8080/"
        },
        "id": "CIKr-4MFp0vO",
        "outputId": "73014910-eeea-47e5-e375-68698ddc66ed"
      },
      "outputs": [
        {
          "output_type": "stream",
          "name": "stdout",
          "text": [
            "Accuracy: 0.8204380448980831\n"
          ]
        }
      ],
      "source": [
        "from sklearn.ensemble import RandomForestClassifier\n",
        "from sklearn.metrics import accuracy_score\n",
        "\n",
        "rf_classifier = RandomForestClassifier(\n",
        "    n_estimators=150,  #from 100 to 150\n",
        "    max_depth=40,  #30 gives 80.8 while 40 give 80.9\n",
        "    min_samples_split=2,\n",
        "    min_samples_leaf=1,\n",
        "    max_features='sqrt', #can do log2 but has no effect\n",
        "    bootstrap=False,   #was true but False improved the accuracy\n",
        "    class_weight='balanced', #default was None. Changed and it improved accuracy\n",
        "    random_state=42\n",
        "    #verbose=1,\n",
        "    #n_jobs=2\n",
        ")\n",
        "\n",
        "# Train the classifier on the training data\n",
        "rf_classifier.fit(X_train, y_train)\n",
        "\n",
        "# Predict on the testing data\n",
        "y_pred_rf = rf_classifier.predict(X_test)\n",
        "\n",
        "# Calculate accuracy\n",
        "accuracy_rf = accuracy_score(y_test, y_pred_rf)\n",
        "print(\"Accuracy:\", accuracy_rf)\n",
        "\n"
      ]
    },
    {
      "cell_type": "code",
      "source": [
        "from sklearn.metrics import confusion_matrix\n",
        "import matplotlib.pyplot as plt\n",
        "import seaborn as sns\n",
        "\n",
        "# Compute confusion matrix\n",
        "cm = confusion_matrix(y_test, y_pred_rf)\n",
        "\n",
        "# Plot confusion matrix\n",
        "plt.figure(figsize=(8, 6))\n",
        "sns.heatmap(cm, annot=True, fmt=\"d\", cmap=\"Blues\", cbar=False)\n",
        "plt.title(\"Confusion Matrix\")\n",
        "plt.xlabel(\"Predicted Labels\")\n",
        "plt.ylabel(\"True Labels\")\n",
        "plt.show()\n"
      ],
      "metadata": {
        "id": "6wTK_GYojN73",
        "colab": {
          "base_uri": "https://localhost:8080/",
          "height": 564
        },
        "outputId": "ff6c0cea-5e61-42f7-acc5-350bb347088c"
      },
      "execution_count": null,
      "outputs": [
        {
          "output_type": "display_data",
          "data": {
            "text/plain": [
              "<Figure size 800x600 with 1 Axes>"
            ],
            "image/png": "[encoded data removed]"
          },
          "metadata": {}
        }
      ]
    },
    {
      "cell_type": "code",
      "source": [
        "import matplotlib.pyplot as plt\n",
        "\n",
        "# Get feature importances from the trained random forest model\n",
        "feature_importances = rf_classifier.feature_importances_\n",
        "\n",
        "# Get the names of the features\n",
        "feature_names = X.columns\n",
        "\n",
        "# Sort the features by their importance\n",
        "sorted_indices = feature_importances.argsort()[::-1]\n",
        "\n",
        "# Plot the feature importances\n",
        "plt.figure(figsize=(10, 6))\n",
        "plt.bar(range(X.shape[1]), feature_importances[sorted_indices], align='center')\n",
        "plt.xticks(range(X.shape[1]), feature_names[sorted_indices], rotation=90)\n",
        "plt.xlabel('Features')\n",
        "plt.ylabel('Importance')\n",
        "plt.title('Feature Importances')\n",
        "plt.tight_layout()\n",
        "plt.show()\n"
      ],
      "metadata": {
        "colab": {
          "base_uri": "https://localhost:8080/",
          "height": 578
        },
        "id": "AHlaWEFWYdSJ",
        "outputId": "472d30b5-bd0f-463b-b7fe-2c22515a7251"
      },
      "execution_count": null,
      "outputs": [
        {
          "output_type": "display_data",
          "data": {
            "text/plain": [
              "<Figure size 1000x600 with 1 Axes>"
            ],
            "image/png": "[encoded data removed]"
          },
          "metadata": {}
        }
      ]
    },
    {
      "cell_type": "markdown",
      "metadata": {
        "id": "xWYYGoywFxhj"
      },
      "source": [
        "#Report precision, recall, sensitivity, specificity, etc in addition to accuracy"
      ]
    },
    {
      "cell_type": "code",
      "execution_count": null,
      "metadata": {
        "id": "HjwlZ2ShwK9o"
      },
      "outputs": [],
      "source": [
        "from sklearn.metrics import accuracy_score, precision_score, recall_score, f1_score, confusion_matrix, classification_report\n",
        "from sklearn.ensemble import RandomForestClassifier\n",
        "from sklearn.metrics import accuracy_score, classification_report, roc_curve\n",
        "import matplotlib.pyplot as plt"
      ]
    },
    {
      "cell_type": "code",
      "execution_count": null,
      "metadata": {
        "colab": {
          "base_uri": "https://localhost:8080/"
        },
        "id": "d1wNI8TrECha",
        "outputId": "20242169-346a-4eae-fea6-8eaeb03a11e3"
      },
      "outputs": [
        {
          "output_type": "stream",
          "name": "stdout",
          "text": [
            "\n",
            "Classification Report:\n",
            "               precision    recall  f1-score   support\n",
            "\n",
            "           0       0.97      0.99      0.98     11209\n",
            "           1       0.74      0.74      0.74     10854\n",
            "           2       0.74      0.73      0.74     10856\n",
            "\n",
            "    accuracy                           0.82     32919\n",
            "   macro avg       0.82      0.82      0.82     32919\n",
            "weighted avg       0.82      0.82      0.82     32919\n",
            "\n",
            "\n",
            "Confusion Matrix:\n",
            " [[11062    55    92]\n",
            " [  178  8053  2623]\n",
            " [  222  2741  7893]]\n",
            "Sensitivity (Recall): 0.99\n",
            "Specificity: 0.98\n"
          ]
        }
      ],
      "source": [
        "from sklearn.metrics import confusion_matrix, classification_report, roc_curve, roc_auc_score\n",
        "from sklearn.multiclass import OneVsRestClassifier\n",
        "import matplotlib.pyplot as plt\n",
        "\n",
        "# Assuming y_test, y_pred_rf, rf_classifier, X_test, X_train, y_train are already defined\n",
        "\n",
        "# Printing the classification report\n",
        "print(\"\\nClassification Report:\\n\", classification_report(y_test, y_pred_rf))\n",
        "\n",
        "# Calculate confusion matrix\n",
        "conf_matrix = confusion_matrix(y_test, y_pred_rf)\n",
        "print(\"\\nConfusion Matrix:\\n\", conf_matrix)\n",
        "\n",
        "# Sensitivity and specificity calculations (assuming binary or consider multi-class adjustments)\n",
        "tp = conf_matrix[0, 0]\n",
        "fn = conf_matrix[0, 1:].sum()\n",
        "fp = conf_matrix[1:, 0].sum()\n",
        "tn = conf_matrix[1:, 1:].sum()\n",
        "sensitivity = tp / (tp + fn)\n",
        "specificity = tn / (tn + fp)\n",
        "print(f\"Sensitivity (Recall): {sensitivity:.2f}\")\n",
        "print(f\"Specificity: {specificity:.2f}\")"
      ]
    },
    {
      "cell_type": "markdown",
      "metadata": {
        "id": "jVyacg1rGMRS"
      },
      "source": [
        "ROC Curve"
      ]
    },
    {
      "cell_type": "code",
      "execution_count": null,
      "metadata": {
        "colab": {
          "base_uri": "https://localhost:8080/",
          "height": 718
        },
        "id": "0WRXcZPUFrWb",
        "outputId": "5fb9f967-2efa-4155-deae-d8f26dd5796e"
      },
      "outputs": [
        {
          "output_type": "display_data",
          "data": {
            "text/plain": [
              "<Figure size 1000x800 with 1 Axes>"
            ],
            "image/png": "[encoded data removed]"
          },
          "metadata": {}
        }
      ],
      "source": [
        "from sklearn.metrics import roc_curve, auc\n",
        "from sklearn.preprocessing import label_binarize\n",
        "import numpy as np\n",
        "import matplotlib.pyplot as plt\n",
        "\n",
        "# Convert labels to a one-hot encoding format if you haven't already done so\n",
        "y_train_binarized = label_binarize(y_train, classes=np.unique(y_train))\n",
        "y_test_binarized = label_binarize(y_test, classes=np.unique(y_test))\n",
        "\n",
        "# Fit OneVsRestClassifier\n",
        "ovr_classifier = OneVsRestClassifier(rf_classifier)\n",
        "ovr_classifier.fit(X_train, y_train_binarized)\n",
        "\n",
        "# Predict probabilities\n",
        "y_pred_proba = ovr_classifier.predict_proba(X_test)\n",
        "\n",
        "# Calculate ROC curve and ROC AUC for each class\n",
        "fpr = dict()\n",
        "tpr = dict()\n",
        "roc_auc = dict()\n",
        "for i in range(y_pred_proba.shape[1]):  # Assuming number of classes from the shape of probabilities\n",
        "    fpr[i], tpr[i], _ = roc_curve(y_test_binarized[:, i], y_pred_proba[:, i])\n",
        "    roc_auc[i] = auc(fpr[i], tpr[i])\n",
        "\n",
        "# Plot the ROC curves\n",
        "plt.figure(figsize=(10, 8))\n",
        "for i in range(len(roc_auc)):\n",
        "    plt.plot(fpr[i], tpr[i], label=f'Class {i} (area = {roc_auc[i]:.2f})')\n",
        "plt.plot([0, 1], [0, 1], 'k--', label='No Skill Line')\n",
        "plt.xlim([0.0, 1.0])\n",
        "plt.ylim([0.0, 1.05])\n",
        "plt.xlabel('False Positive Rate')\n",
        "plt.ylabel('True Positive Rate')\n",
        "plt.title('Receiver Operating Characteristic (ROC)')\n",
        "plt.legend(loc=\"lower right\")\n",
        "plt.show()\n"
      ]
    },
    {
      "cell_type": "markdown",
      "metadata": {
        "id": "V_tVjfYw1ng2"
      },
      "source": [
        "##Decision Tree Classifier"
      ]
    },
    {
      "cell_type": "code",
      "execution_count": null,
      "metadata": {
        "colab": {
          "base_uri": "https://localhost:8080/"
        },
        "id": "XMDlc_Cn1Elt",
        "outputId": "25d7a70d-f9d2-4aa5-e76a-8d99863c5fea"
      },
      "outputs": [
        {
          "output_type": "stream",
          "name": "stdout",
          "text": [
            "Accuracy: 0.7611409824113734\n"
          ]
        }
      ],
      "source": [
        "from sklearn.tree import DecisionTreeClassifier\n",
        "from sklearn.tree import DecisionTreeClassifier\n",
        "\n",
        "dt_classifier = DecisionTreeClassifier(\n",
        "    criterion='gini',\n",
        "    splitter='best',\n",
        "    max_depth=None,\n",
        "    min_samples_split=2,\n",
        "    min_samples_leaf=1,\n",
        "    min_weight_fraction_leaf=0.0,\n",
        "    max_features='sqrt',  #changed from None to sqrt\n",
        "    random_state=None,\n",
        "    max_leaf_nodes=None,\n",
        "    min_impurity_decrease=0.0,\n",
        "    class_weight=None\n",
        ")\n",
        "\n",
        "\n",
        "# Train the classifier on the training data\n",
        "dt_classifier.fit(X_train, y_train)\n",
        "\n",
        "# Predict on the testing data\n",
        "y_pred_dt = dt_classifier.predict(X_test)\n",
        "\n",
        "# Calculate accuracy\n",
        "accuracy_dt = accuracy_score(y_test, y_pred_dt)\n",
        "print(\"Accuracy:\", accuracy_dt)"
      ]
    },
    {
      "cell_type": "markdown",
      "metadata": {
        "id": "1u66rev2GQmQ"
      },
      "source": [
        "#Report precision, recall, sensitivity, specificity, etc in addition to accuracy"
      ]
    },
    {
      "cell_type": "code",
      "execution_count": null,
      "metadata": {
        "id": "q5-xuyoKADuc"
      },
      "outputs": [],
      "source": [
        "from sklearn.metrics import accuracy_score, precision_score, recall_score, f1_score, confusion_matrix\n"
      ]
    },
    {
      "cell_type": "code",
      "execution_count": null,
      "metadata": {
        "colab": {
          "base_uri": "https://localhost:8080/"
        },
        "id": "u9mCEsz9GQNa",
        "outputId": "199440b7-665f-449f-ab1b-e9913b2c4676"
      },
      "outputs": [
        {
          "output_type": "stream",
          "name": "stdout",
          "text": [
            "\n",
            "Classification Report:\n",
            "               precision    recall  f1-score   support\n",
            "\n",
            "           0       0.85      0.99      0.91     11209\n",
            "           1       0.69      0.72      0.71     10854\n",
            "           2       0.73      0.56      0.64     10856\n",
            "\n",
            "    accuracy                           0.76     32919\n",
            "   macro avg       0.75      0.76      0.75     32919\n",
            "weighted avg       0.75      0.76      0.75     32919\n",
            "\n",
            "\n",
            "Confusion Matrix:\n",
            " [[11086    44    79]\n",
            " [  774  7838  2242]\n",
            " [ 1229  3495  6132]]\n",
            "Sensitivity (Recall): 0.99\n",
            "Specificity: 0.91\n"
          ]
        }
      ],
      "source": [
        "\n",
        "# Printing the classification report\n",
        "print(\"\\nClassification Report:\\n\", classification_report(y_test, y_pred_dt))\n",
        "\n",
        "# Calculate confusion matrix\n",
        "conf_matrix = confusion_matrix(y_test, y_pred_dt)\n",
        "print(\"\\nConfusion Matrix:\\n\", conf_matrix)\n",
        "\n",
        "# Calculate sensitivity and specificity from the confusion matrix\n",
        "# Assuming the first class is the positive class\n",
        "tp = conf_matrix[0, 0]\n",
        "fn = conf_matrix[0, 1:]\n",
        "fp = conf_matrix[1:, 0]\n",
        "tn = conf_matrix[1:, 1:].sum()\n",
        "\n",
        "sensitivity = tp / (tp + fn.sum())\n",
        "specificity = tn / (tn + fp.sum())\n",
        "\n",
        "print(f\"Sensitivity (Recall): {sensitivity:.2f}\")\n",
        "print(f\"Specificity: {specificity:.2f}\")"
      ]
    },
    {
      "cell_type": "markdown",
      "metadata": {
        "id": "deY5J7DuGBWF"
      },
      "source": [
        "ROC Curve"
      ]
    },
    {
      "cell_type": "markdown",
      "metadata": {
        "id": "yGSg9RngGSqB"
      },
      "source": [
        "##Logistic Regression"
      ]
    },
    {
      "cell_type": "code",
      "execution_count": null,
      "metadata": {
        "colab": {
          "base_uri": "https://localhost:8080/"
        },
        "id": "e8TcCUmo8U02",
        "outputId": "b97be429-22d1-4af1-bcfb-91427449deef"
      },
      "outputs": [
        {
          "output_type": "stream",
          "name": "stdout",
          "text": [
            "Accuracy: 0.44\n"
          ]
        },
        {
          "output_type": "stream",
          "name": "stderr",
          "text": [
            "/usr/local/lib/python3.10/dist-packages/sklearn/linear_model/_logistic.py:458: ConvergenceWarning: lbfgs failed to converge (status=1):\n",
            "STOP: TOTAL NO. of ITERATIONS REACHED LIMIT.\n",
            "\n",
            "Increase the number of iterations (max_iter) or scale the data as shown in:\n",
            "    https://scikit-learn.org/stable/modules/preprocessing.html\n",
            "Please also refer to the documentation for alternative solver options:\n",
            "    https://scikit-learn.org/stable/modules/linear_model.html#logistic-regression\n",
            "  n_iter_i = _check_optimize_result(\n"
          ]
        }
      ],
      "source": [
        "from sklearn.linear_model import LogisticRegression\n",
        "\n",
        "model = LogisticRegression(max_iter=1000, random_state=42)\n",
        "model.fit(X_train, y_train)\n",
        "\n",
        "y_pred_lr = model.predict(X_test)\n",
        "\n",
        "accuracy_lr = accuracy_score(y_test, y_pred_lr)\n",
        "print(f\"Accuracy: {accuracy_lr:.2f}\")"
      ]
    },
    {
      "cell_type": "markdown",
      "metadata": {
        "id": "B_TAnAthGZk9"
      },
      "source": [
        "#Report precision, recall, sensitivity, specificity, etc in addition to accuracy"
      ]
    },
    {
      "cell_type": "code",
      "execution_count": null,
      "metadata": {
        "colab": {
          "base_uri": "https://localhost:8080/"
        },
        "id": "GhbXeqOCGagS",
        "outputId": "5c141cb7-67b0-4d8f-c5bf-1e16c4a27636"
      },
      "outputs": [
        {
          "output_type": "stream",
          "name": "stdout",
          "text": [
            "\n",
            "Classification Report:\n",
            "               precision    recall  f1-score   support\n",
            "\n",
            "           0       0.47      0.42      0.44     11209\n",
            "           1       0.39      0.28      0.32     10854\n",
            "           2       0.44      0.63      0.52     10856\n",
            "\n",
            "    accuracy                           0.44     32919\n",
            "   macro avg       0.44      0.44      0.43     32919\n",
            "weighted avg       0.44      0.44      0.43     32919\n",
            "\n",
            "\n",
            "Confusion Matrix:\n",
            " [[4683 2626 3900]\n",
            " [3225 2996 4633]\n",
            " [1971 2067 6818]]\n",
            "Sensitivity (Recall): 0.42\n",
            "Specificity: 0.76\n"
          ]
        }
      ],
      "source": [
        "\n",
        "# Printing the classification report\n",
        "print(\"\\nClassification Report:\\n\", classification_report(y_test, y_pred_lr))\n",
        "\n",
        "# Calculate confusion matrix\n",
        "conf_matrix = confusion_matrix(y_test, y_pred_lr)\n",
        "print(\"\\nConfusion Matrix:\\n\", conf_matrix)\n",
        "\n",
        "# Calculate sensitivity and specificity from the confusion matrix\n",
        "# Assuming the first class is the positive class\n",
        "tp = conf_matrix[0, 0]\n",
        "fn = conf_matrix[0, 1:]\n",
        "fp = conf_matrix[1:, 0]\n",
        "tn = conf_matrix[1:, 1:].sum()\n",
        "\n",
        "sensitivity = tp / (tp + fn.sum())\n",
        "specificity = tn / (tn + fp.sum())\n",
        "\n",
        "print(f\"Sensitivity (Recall): {sensitivity:.2f}\")\n",
        "print(f\"Specificity: {specificity:.2f}\")"
      ]
    },
    {
      "cell_type": "markdown",
      "metadata": {
        "id": "YgGh_lvBG_w-"
      },
      "source": [
        "##Linear Regression"
      ]
    },
    {
      "cell_type": "markdown",
      "metadata": {
        "id": "9f789SpPGiQ8"
      },
      "source": [
        "#Report precision, recall, sensitivity, specificity, etc in addition to accuracy"
      ]
    },
    {
      "cell_type": "code",
      "execution_count": null,
      "metadata": {
        "colab": {
          "base_uri": "https://localhost:8080/"
        },
        "id": "76IDC7KeGjMA",
        "outputId": "5911cb02-c999-4292-80d1-b16f379966e0"
      },
      "outputs": [
        {
          "output_type": "stream",
          "name": "stdout",
          "text": [
            "Accuracy: 0.34\n",
            "Precision: 0.33\n",
            "Recall: 0.34\n",
            "F1 Score: 0.20\n",
            "Confusion Matrix:\n",
            " [[  654 10555     0]\n",
            " [  261 10593     0]\n",
            " [   65 10791     0]]\n",
            "Sensitivity (Recall): 0.06\n",
            "Specificity: 0.98\n"
          ]
        },
        {
          "output_type": "stream",
          "name": "stderr",
          "text": [
            "/usr/local/lib/python3.10/dist-packages/sklearn/metrics/_classification.py:1344: UndefinedMetricWarning: Precision is ill-defined and being set to 0.0 in labels with no predicted samples. Use `zero_division` parameter to control this behavior.\n",
            "  _warn_prf(average, modifier, msg_start, len(result))\n"
          ]
        }
      ],
      "source": [
        "from sklearn.linear_model import LinearRegression\n",
        "import numpy as np\n",
        "from sklearn.metrics import accuracy_score, precision_score, recall_score, f1_score, confusion_matrix\n",
        "\n",
        "# Initialize and train the Linear Regression model\n",
        "linear = LinearRegression()\n",
        "linear.fit(X_train, y_train)\n",
        "\n",
        "# Predict on the testing data\n",
        "y_pred_linear = linear.predict(X_test)\n",
        "\n",
        "# Define a threshold for classification\n",
        "threshold = 0.5\n",
        "y_pred_class = (y_pred_linear > threshold).astype(int)\n",
        "\n",
        "# Calculate accuracy\n",
        "accuracy_linear = accuracy_score(y_test, y_pred_class)\n",
        "print(f\"Accuracy: {accuracy_linear:.2f}\")\n",
        "\n",
        "# Calculate precision, recall, and F1 score\n",
        "# Since y_test is multiclass, we need to use a different average\n",
        "precision = precision_score(y_test, y_pred_class, average='macro')\n",
        "recall = recall_score(y_test, y_pred_class, average='macro')\n",
        "f1 = f1_score(y_test, y_pred_class, average='macro')\n",
        "\n",
        "print(f\"Precision: {precision:.2f}\")\n",
        "print(f\"Recall: {recall:.2f}\")\n",
        "print(f\"F1 Score: {f1:.2f}\")\n",
        "\n",
        "# Calculate confusion matrix\n",
        "conf_matrix = confusion_matrix(y_test, y_pred_class)\n",
        "print(\"Confusion Matrix:\\n\", conf_matrix)\n",
        "\n",
        "# Calculate sensitivity and specificity from the confusion matrix\n",
        "# Assuming the first class is the positive class\n",
        "tp = conf_matrix[0, 0]\n",
        "fn = conf_matrix[0, 1:]\n",
        "fp = conf_matrix[1:, 0]\n",
        "tn = conf_matrix[1:, 1:].sum()\n",
        "\n",
        "sensitivity = tp / (tp + fn.sum())\n",
        "specificity = tn / (tn + fp.sum())\n",
        "\n",
        "print(f\"Sensitivity (Recall): {sensitivity:.2f}\")\n",
        "print(f\"Specificity: {specificity:.2f}\")"
      ]
    },
    {
      "cell_type": "markdown",
      "metadata": {
        "id": "67dd1L33Gp5I"
      },
      "source": [
        "##KNN"
      ]
    },
    {
      "cell_type": "code",
      "execution_count": null,
      "metadata": {
        "colab": {
          "base_uri": "https://localhost:8080/"
        },
        "id": "6vuz70Wn5yop",
        "outputId": "d7be3644-bc25-4cb8-d5b0-56f3572ec258"
      },
      "outputs": [
        {
          "output_type": "stream",
          "name": "stdout",
          "text": [
            "Accuracy: 0.7383881648895775\n"
          ]
        }
      ],
      "source": [
        "from sklearn.neighbors import KNeighborsClassifier\n",
        "\n",
        "# Define parameters for KNeighborsClassifier\n",
        "knn_params = {\n",
        "    'n_neighbors': 3,             # Default: 5\n",
        "    'weights': 'distance',         # Default: 'uniform'\n",
        "    'algorithm': 'auto',          # Default: 'auto'\n",
        "    'leaf_size': 30,              # Default: 30\n",
        "    'p': 2,                       # Default: 2 (Euclidean distance)\n",
        "    'metric': 'minkowski',       # Default: 'minkowski'\n",
        "    'n_jobs': None                # Default: None (no parallelism)\n",
        "}\n",
        "\n",
        "# Create KNeighborsClassifier\n",
        "knn_classifier = KNeighborsClassifier(**knn_params)\n",
        "\n",
        "knn_classifier.fit(X_train, y_train)\n",
        "# Making predictions on the testing data\n",
        "y_pred_knn = knn_classifier.predict(X_test)\n",
        "\n",
        "# Evaluating the model\n",
        "accuracy_knn = accuracy_score(y_test, y_pred_knn)\n",
        "print(\"Accuracy:\", accuracy_knn)"
      ]
    },
    {
      "cell_type": "markdown",
      "metadata": {
        "id": "E3VrTq39Gr7l"
      },
      "source": [
        "#Report precision, recall, sensitivity, specificity, etc in addition to accuracy"
      ]
    },
    {
      "cell_type": "code",
      "execution_count": null,
      "metadata": {
        "colab": {
          "base_uri": "https://localhost:8080/"
        },
        "id": "4Xps8Sa4GsuG",
        "outputId": "0a538d52-93a3-4798-d73a-b713c22febd2"
      },
      "outputs": [
        {
          "output_type": "stream",
          "name": "stdout",
          "text": [
            "\n",
            "Classification Report:\n",
            "               precision    recall  f1-score   support\n",
            "\n",
            "           0       0.79      0.99      0.88     11209\n",
            "           1       0.69      0.72      0.70     10854\n",
            "           2       0.73      0.49      0.59     10856\n",
            "\n",
            "    accuracy                           0.74     32919\n",
            "   macro avg       0.73      0.74      0.72     32919\n",
            "weighted avg       0.73      0.74      0.72     32919\n",
            "\n",
            "\n",
            "Confusion Matrix:\n",
            " [[11083    50    76]\n",
            " [ 1056  7853  1945]\n",
            " [ 1961  3524  5371]]\n",
            "Sensitivity (Recall): 0.99\n",
            "Specificity: 0.86\n"
          ]
        }
      ],
      "source": [
        "from sklearn.svm import SVC\n",
        "from sklearn.metrics import accuracy_score, classification_report, confusion_matrix\n",
        "\n",
        "# Printing the classification report\n",
        "print(\"\\nClassification Report:\\n\", classification_report(y_test, y_pred_knn))\n",
        "\n",
        "# Calculate confusion matrix\n",
        "conf_matrix = confusion_matrix(y_test, y_pred_knn)\n",
        "print(\"\\nConfusion Matrix:\\n\", conf_matrix)\n",
        "\n",
        "# Calculate sensitivity and specificity from the confusion matrix\n",
        "# Assuming the first class is the positive class\n",
        "tp = conf_matrix[0, 0]\n",
        "fn = conf_matrix[0, 1:]\n",
        "fp = conf_matrix[1:, 0]\n",
        "tn = conf_matrix[1:, 1:].sum()\n",
        "\n",
        "sensitivity = tp / (tp + fn.sum())\n",
        "specificity = tn / (tn + fp.sum())\n",
        "\n",
        "print(f\"Sensitivity (Recall): {sensitivity:.2f}\")\n",
        "print(f\"Specificity: {specificity:.2f}\")"
      ]
    },
    {
      "cell_type": "markdown",
      "metadata": {
        "id": "CSJ5-VEG97dO"
      },
      "source": [
        "##GaussianNB"
      ]
    },
    {
      "cell_type": "code",
      "execution_count": null,
      "metadata": {
        "colab": {
          "base_uri": "https://localhost:8080/"
        },
        "id": "fJ-7sOqP6R-M",
        "outputId": "b80e55c8-3eb0-41eb-a5cd-ac985df3b870"
      },
      "outputs": [
        {
          "output_type": "stream",
          "name": "stdout",
          "text": [
            "Accuracy: 0.4044169020930162\n"
          ]
        }
      ],
      "source": [
        "from sklearn.naive_bayes import GaussianNB\n",
        "from sklearn.metrics import accuracy_score, classification_report, confusion_matrix\n",
        "naive_bayes = GaussianNB()\n",
        "\n",
        "# Fitting the model to the training data\n",
        "naive_bayes.fit(X_train, y_train)\n",
        "\n",
        "# Making predictions on the testing data\n",
        "y_pred_nb = naive_bayes.predict(X_test)\n",
        "\n",
        "# Evaluating the model\n",
        "accuracy_nb = accuracy_score(y_test, y_pred_nb)\n",
        "print(\"Accuracy:\", accuracy_nb)"
      ]
    },
    {
      "cell_type": "markdown",
      "metadata": {
        "id": "ieJDFQe4PNUR"
      },
      "source": [
        "# Report precision, recall, sensitivity, specificity, etc in addition to accuracy"
      ]
    },
    {
      "cell_type": "code",
      "execution_count": null,
      "metadata": {
        "colab": {
          "base_uri": "https://localhost:8080/"
        },
        "id": "antJr1xJPGt4",
        "outputId": "a278e649-4318-4488-d2a2-e17fe647886f"
      },
      "outputs": [
        {
          "output_type": "stream",
          "name": "stdout",
          "text": [
            "\n",
            "Classification Report:\n",
            "               precision    recall  f1-score   support\n",
            "\n",
            "           0       0.51      0.24      0.33     11209\n",
            "           1       0.42      0.12      0.18     10854\n",
            "           2       0.38      0.86      0.53     10856\n",
            "\n",
            "    accuracy                           0.40     32919\n",
            "   macro avg       0.44      0.41      0.35     32919\n",
            "weighted avg       0.44      0.40      0.35     32919\n",
            "\n",
            "\n",
            "Confusion Matrix:\n",
            " [[2668 1113 7428]\n",
            " [1725 1288 7841]\n",
            " [ 797  702 9357]]\n",
            "Sensitivity (Recall): 0.24\n",
            "Specificity: 0.88\n"
          ]
        }
      ],
      "source": [
        "from sklearn.naive_bayes import GaussianNB\n",
        "from sklearn.metrics import accuracy_score, classification_report, confusion_matrix\n",
        "\n",
        "\n",
        "\n",
        "# Printing the classification report\n",
        "print(\"\\nClassification Report:\\n\", classification_report(y_test, y_pred_nb))\n",
        "\n",
        "# Calculate confusion matrix\n",
        "conf_matrix = confusion_matrix(y_test, y_pred_nb)\n",
        "print(\"\\nConfusion Matrix:\\n\", conf_matrix)\n",
        "\n",
        "# Calculate sensitivity and specificity from the confusion matrix\n",
        "# Assuming the first class is the positive class\n",
        "tp = conf_matrix[0, 0]\n",
        "fn = conf_matrix[0, 1:]\n",
        "fp = conf_matrix[1:, 0]\n",
        "tn = conf_matrix[1:, 1:].sum()\n",
        "\n",
        "sensitivity = tp / (tp + fn.sum())\n",
        "specificity = tn / (tn + fp.sum())\n",
        "\n",
        "print(f\"Sensitivity (Recall): {sensitivity:.2f}\")\n",
        "print(f\"Specificity: {specificity:.2f}\")"
      ]
    },
    {
      "cell_type": "markdown",
      "metadata": {
        "id": "AApOOPePCmHo"
      },
      "source": [
        "##Gradient Boosting Classifier"
      ]
    },
    {
      "cell_type": "code",
      "execution_count": null,
      "metadata": {
        "colab": {
          "base_uri": "https://localhost:8080/"
        },
        "id": "xzYz5DYd9QAt",
        "outputId": "84a08d50-7704-49a5-883e-4fc58e5e266f"
      },
      "outputs": [
        {
          "output_type": "stream",
          "name": "stdout",
          "text": [
            "Accuracy: 0.46666059114796926\n"
          ]
        }
      ],
      "source": [
        "from sklearn.ensemble import GradientBoostingClassifier\n",
        "from sklearn.metrics import accuracy_score, classification_report\n",
        "gbm = GradientBoostingClassifier(\n",
        "    loss='log_loss',\n",
        "    learning_rate=0.1,\n",
        "    n_estimators=400, #increased from 150 to 400\n",
        "    subsample=1.0,\n",
        "    criterion='friedman_mse',\n",
        "    max_depth=3,\n",
        "    min_samples_split=2,\n",
        "    min_samples_leaf=1,\n",
        "    max_features=1,\n",
        "    warm_start=False,\n",
        "    random_state=None\n",
        ")\n",
        "\n",
        "# Fitting the model to the training data\n",
        "gbm.fit(X_train, y_train)\n",
        "\n",
        "# Making predictions on the testing data\n",
        "y_pred_gbm = gbm.predict(X_test)\n",
        "\n",
        "# Evaluating the model\n",
        "accuracy_gbm = accuracy_score(y_test,y_pred_gbm)\n",
        "print(\"Accuracy:\", accuracy_gbm)"
      ]
    },
    {
      "cell_type": "markdown",
      "metadata": {
        "id": "stVZJBcoG20R"
      },
      "source": [
        "#Report precision, recall, sensitivity, specificity, etc in addition to accuracy"
      ]
    },
    {
      "cell_type": "code",
      "execution_count": null,
      "metadata": {
        "colab": {
          "base_uri": "https://localhost:8080/"
        },
        "id": "MKsCbBYuCkJa",
        "outputId": "f2a29b6a-f7cc-4409-ca01-b712fa3f745c"
      },
      "outputs": [
        {
          "output_type": "stream",
          "name": "stdout",
          "text": [
            "\n",
            "Classification Report:\n",
            "               precision    recall  f1-score   support\n",
            "\n",
            "           0       0.51      0.42      0.46     11209\n",
            "           1       0.42      0.38      0.40     10854\n",
            "           2       0.47      0.60      0.53     10856\n",
            "\n",
            "    accuracy                           0.47     32919\n",
            "   macro avg       0.47      0.47      0.46     32919\n",
            "weighted avg       0.47      0.47      0.46     32919\n",
            "\n",
            "\n",
            "Confusion Matrix:\n",
            " [[4690 3164 3355]\n",
            " [2829 4162 3863]\n",
            " [1757 2589 6510]]\n",
            "Sensitivity (Recall): 0.42\n",
            "Specificity: 0.79\n"
          ]
        }
      ],
      "source": [
        "from sklearn.ensemble import GradientBoostingClassifier\n",
        "from sklearn.metrics import accuracy_score, classification_report\n",
        "\n",
        "\n",
        "\n",
        "# Printing the classification report\n",
        "print(\"\\nClassification Report:\\n\", classification_report(y_test, y_pred_gbm))\n",
        "\n",
        "# Calculate confusion matrix\n",
        "conf_matrix = confusion_matrix(y_test, y_pred_gbm)\n",
        "print(\"\\nConfusion Matrix:\\n\", conf_matrix)\n",
        "\n",
        "# Calculate sensitivity and specificity from the confusion matrix\n",
        "# Assuming the first class is the positive class\n",
        "tp = conf_matrix[0, 0]\n",
        "fn = conf_matrix[0, 1:]\n",
        "fp = conf_matrix[1:, 0]\n",
        "tn = conf_matrix[1:, 1:].sum()\n",
        "\n",
        "sensitivity = tp / (tp + fn.sum())\n",
        "specificity = tn / (tn + fp.sum())\n",
        "\n",
        "print(f\"Sensitivity (Recall): {sensitivity:.2f}\")\n",
        "print(f\"Specificity: {specificity:.2f}\")"
      ]
    },
    {
      "cell_type": "markdown",
      "metadata": {
        "id": "2OWDWdmhG5FY"
      },
      "source": [
        "##Ann"
      ]
    },
    {
      "cell_type": "code",
      "execution_count": null,
      "metadata": {
        "colab": {
          "base_uri": "https://localhost:8080/"
        },
        "id": "IpO6ch2_G6jJ",
        "outputId": "de7fe3f3-8103-43d3-ac7b-1419fa41c39e"
      },
      "outputs": [
        {
          "output_type": "stream",
          "name": "stdout",
          "text": [
            "Requirement already satisfied: tensorflow in /usr/local/lib/python3.10/dist-packages (2.15.0)\n",
            "Requirement already satisfied: absl-py>=1.0.0 in /usr/local/lib/python3.10/dist-packages (from tensorflow) (1.4.0)\n",
            "Requirement already satisfied: astunparse>=1.6.0 in /usr/local/lib/python3.10/dist-packages (from tensorflow) (1.6.3)\n",
            "Requirement already satisfied: flatbuffers>=23.5.26 in /usr/local/lib/python3.10/dist-packages (from tensorflow) (24.3.25)\n",
            "Requirement already satisfied: gast!=0.5.0,!=0.5.1,!=0.5.2,>=0.2.1 in /usr/local/lib/python3.10/dist-packages (from tensorflow) (0.5.4)\n",
            "Requirement already satisfied: google-pasta>=0.1.1 in /usr/local/lib/python3.10/dist-packages (from tensorflow) (0.2.0)\n",
            "Requirement already satisfied: h5py>=2.9.0 in /usr/local/lib/python3.10/dist-packages (from tensorflow) (3.9.0)\n",
            "Requirement already satisfied: libclang>=13.0.0 in /usr/local/lib/python3.10/dist-packages (from tensorflow) (18.1.1)\n",
            "Requirement already satisfied: ml-dtypes~=0.2.0 in /usr/local/lib/python3.10/dist-packages (from tensorflow) (0.2.0)\n",
            "Requirement already satisfied: numpy<2.0.0,>=1.23.5 in /usr/local/lib/python3.10/dist-packages (from tensorflow) (1.25.2)\n",
            "Requirement already satisfied: opt-einsum>=2.3.2 in /usr/local/lib/python3.10/dist-packages (from tensorflow) (3.3.0)\n",
            "Requirement already satisfied: packaging in /usr/local/lib/python3.10/dist-packages (from tensorflow) (24.0)\n",
            "Requirement already satisfied: protobuf!=4.21.0,!=4.21.1,!=4.21.2,!=4.21.3,!=4.21.4,!=4.21.5,<5.0.0dev,>=3.20.3 in /usr/local/lib/python3.10/dist-packages (from tensorflow) (3.20.3)\n",
            "Requirement already satisfied: setuptools in /usr/local/lib/python3.10/dist-packages (from tensorflow) (67.7.2)\n",
            "Requirement already satisfied: six>=1.12.0 in /usr/local/lib/python3.10/dist-packages (from tensorflow) (1.16.0)\n",
            "Requirement already satisfied: termcolor>=1.1.0 in /usr/local/lib/python3.10/dist-packages (from tensorflow) (2.4.0)\n",
            "Requirement already satisfied: typing-extensions>=3.6.6 in /usr/local/lib/python3.10/dist-packages (from tensorflow) (4.11.0)\n",
            "Requirement already satisfied: wrapt<1.15,>=1.11.0 in /usr/local/lib/python3.10/dist-packages (from tensorflow) (1.14.1)\n",
            "Requirement already satisfied: tensorflow-io-gcs-filesystem>=0.23.1 in /usr/local/lib/python3.10/dist-packages (from tensorflow) (0.37.0)\n",
            "Requirement already satisfied: grpcio<2.0,>=1.24.3 in /usr/local/lib/python3.10/dist-packages (from tensorflow) (1.63.0)\n",
            "Requirement already satisfied: tensorboard<2.16,>=2.15 in /usr/local/lib/python3.10/dist-packages (from tensorflow) (2.15.2)\n",
            "Requirement already satisfied: tensorflow-estimator<2.16,>=2.15.0 in /usr/local/lib/python3.10/dist-packages (from tensorflow) (2.15.0)\n",
            "Requirement already satisfied: keras<2.16,>=2.15.0 in /usr/local/lib/python3.10/dist-packages (from tensorflow) (2.15.0)\n",
            "Requirement already satisfied: wheel<1.0,>=0.23.0 in /usr/local/lib/python3.10/dist-packages (from astunparse>=1.6.0->tensorflow) (0.43.0)\n",
            "Requirement already satisfied: google-auth<3,>=1.6.3 in /usr/local/lib/python3.10/dist-packages (from tensorboard<2.16,>=2.15->tensorflow) (2.27.0)\n",
            "Requirement already satisfied: google-auth-oauthlib<2,>=0.5 in /usr/local/lib/python3.10/dist-packages (from tensorboard<2.16,>=2.15->tensorflow) (1.2.0)\n",
            "Requirement already satisfied: markdown>=2.6.8 in /usr/local/lib/python3.10/dist-packages (from tensorboard<2.16,>=2.15->tensorflow) (3.6)\n",
            "Requirement already satisfied: requests<3,>=2.21.0 in /usr/local/lib/python3.10/dist-packages (from tensorboard<2.16,>=2.15->tensorflow) (2.31.0)\n",
            "Requirement already satisfied: tensorboard-data-server<0.8.0,>=0.7.0 in /usr/local/lib/python3.10/dist-packages (from tensorboard<2.16,>=2.15->tensorflow) (0.7.2)\n",
            "Requirement already satisfied: werkzeug>=1.0.1 in /usr/local/lib/python3.10/dist-packages (from tensorboard<2.16,>=2.15->tensorflow) (3.0.3)\n",
            "Requirement already satisfied: cachetools<6.0,>=2.0.0 in /usr/local/lib/python3.10/dist-packages (from google-auth<3,>=1.6.3->tensorboard<2.16,>=2.15->tensorflow) (5.3.3)\n",
            "Requirement already satisfied: pyasn1-modules>=0.2.1 in /usr/local/lib/python3.10/dist-packages (from google-auth<3,>=1.6.3->tensorboard<2.16,>=2.15->tensorflow) (0.4.0)\n",
            "Requirement already satisfied: rsa<5,>=3.1.4 in /usr/local/lib/python3.10/dist-packages (from google-auth<3,>=1.6.3->tensorboard<2.16,>=2.15->tensorflow) (4.9)\n",
            "Requirement already satisfied: requests-oauthlib>=0.7.0 in /usr/local/lib/python3.10/dist-packages (from google-auth-oauthlib<2,>=0.5->tensorboard<2.16,>=2.15->tensorflow) (1.3.1)\n",
            "Requirement already satisfied: charset-normalizer<4,>=2 in /usr/local/lib/python3.10/dist-packages (from requests<3,>=2.21.0->tensorboard<2.16,>=2.15->tensorflow) (3.3.2)\n",
            "Requirement already satisfied: idna<4,>=2.5 in /usr/local/lib/python3.10/dist-packages (from requests<3,>=2.21.0->tensorboard<2.16,>=2.15->tensorflow) (3.7)\n",
            "Requirement already satisfied: urllib3<3,>=1.21.1 in /usr/local/lib/python3.10/dist-packages (from requests<3,>=2.21.0->tensorboard<2.16,>=2.15->tensorflow) (2.0.7)\n",
            "Requirement already satisfied: certifi>=2017.4.17 in /usr/local/lib/python3.10/dist-packages (from requests<3,>=2.21.0->tensorboard<2.16,>=2.15->tensorflow) (2024.2.2)\n",
            "Requirement already satisfied: MarkupSafe>=2.1.1 in /usr/local/lib/python3.10/dist-packages (from werkzeug>=1.0.1->tensorboard<2.16,>=2.15->tensorflow) (2.1.5)\n",
            "Requirement already satisfied: pyasn1<0.7.0,>=0.4.6 in /usr/local/lib/python3.10/dist-packages (from pyasn1-modules>=0.2.1->google-auth<3,>=1.6.3->tensorboard<2.16,>=2.15->tensorflow) (0.6.0)\n",
            "Requirement already satisfied: oauthlib>=3.0.0 in /usr/local/lib/python3.10/dist-packages (from requests-oauthlib>=0.7.0->google-auth-oauthlib<2,>=0.5->tensorboard<2.16,>=2.15->tensorflow) (3.2.2)\n"
          ]
        }
      ],
      "source": [
        "!pip install tensorflow\n"
      ]
    },
    {
      "cell_type": "code",
      "execution_count": null,
      "metadata": {
        "colab": {
          "base_uri": "https://localhost:8080/"
        },
        "id": "v5fzc0WNMLy8",
        "outputId": "67c7800b-f5c1-484e-e091-004fe175d472"
      },
      "outputs": [
        {
          "output_type": "stream",
          "name": "stdout",
          "text": [
            "Epoch 1/5\n",
            "3292/3292 [==============================] - 15s 4ms/step - loss: -1483.9337 - accuracy: 0.3504 - val_loss: -5563.2700 - val_accuracy: 0.3471\n",
            "Epoch 2/5\n",
            "3292/3292 [==============================] - 18s 5ms/step - loss: -23316.6719 - accuracy: 0.3514 - val_loss: -45970.9297 - val_accuracy: 0.3490\n",
            "Epoch 3/5\n",
            "3292/3292 [==============================] - 18s 6ms/step - loss: -101566.0859 - accuracy: 0.3504 - val_loss: -157128.2344 - val_accuracy: 0.3507\n",
            "Epoch 4/5\n",
            "3292/3292 [==============================] - 9s 3ms/step - loss: -276775.5000 - accuracy: 0.3513 - val_loss: -374106.5938 - val_accuracy: 0.3478\n",
            "Epoch 5/5\n",
            "3292/3292 [==============================] - 7s 2ms/step - loss: -583650.1875 - accuracy: 0.3503 - val_loss: -730535.5625 - val_accuracy: 0.3483\n",
            "1029/1029 [==============================] - 2s 1ms/step - loss: -706440.7500 - accuracy: 0.3506\n",
            "Accuracy: 0.350557416677475\n"
          ]
        }
      ],
      "source": [
        "#ANN\n",
        "import numpy as np\n",
        "from sklearn.model_selection import train_test_split\n",
        "from sklearn.preprocessing import StandardScaler\n",
        "from tensorflow.keras.models import Sequential\n",
        "from tensorflow.keras.layers import Dense\n",
        "\n",
        "# Assuming 'data_resampled' contains your DataFrame\n",
        "# Splitting data into features (X) and target variable (y)\n",
        "\n",
        "# Assuming X_train, X_test, y_train, and y_test are already defined\n",
        "\n",
        "# Feature scaling\n",
        "scaler = StandardScaler()\n",
        "X_train = scaler.fit_transform(X_train)\n",
        "X_test = scaler.transform(X_test)\n",
        "\n",
        "# Initializing the ANN model\n",
        "model = Sequential()\n",
        "\n",
        "# Adding the input layer and the first hidden layer\n",
        "model.add(Dense(units=64, activation='relu', input_dim=X_train.shape[1]))\n",
        "\n",
        "# Adding more hidden layers\n",
        "model.add(Dense(units=64, activation='relu'))\n",
        "\n",
        "# Adding the output layer\n",
        "model.add(Dense(units=1, activation='sigmoid'))\n",
        "\n",
        "# Compiling the model\n",
        "model.compile(optimizer='rmsprop', loss='binary_crossentropy', metrics=['accuracy'])\n",
        "\n",
        "# Training the model\n",
        "history = model.fit(X_train, y_train, epochs=5, batch_size=32, validation_split=0.2)\n",
        "\n",
        "# Evaluating the model\n",
        "loss, accuracy_ann = model.evaluate(X_test, y_test)\n",
        "print(\"Accuracy:\", accuracy_ann)\n"
      ]
    },
    {
      "cell_type": "code",
      "execution_count": null,
      "metadata": {
        "colab": {
          "base_uri": "https://localhost:8080/"
        },
        "id": "RTdmNU88NM3Q",
        "outputId": "a915d459-c39b-440e-c29d-3128cab47899"
      },
      "outputs": [
        {
          "output_type": "stream",
          "name": "stdout",
          "text": [
            "1029/1029 [==============================] - 2s 2ms/step\n",
            "Classification Report:\n",
            "               precision    recall  f1-score   support\n",
            "\n",
            "           0       0.55      0.16      0.25     11209\n",
            "           1       0.33      0.90      0.48     10854\n",
            "           2       0.00      0.00      0.00     10856\n",
            "\n",
            "    accuracy                           0.35     32919\n",
            "   macro avg       0.29      0.35      0.24     32919\n",
            "weighted avg       0.29      0.35      0.24     32919\n",
            "\n",
            "Confusion Matrix:\n",
            " [[ 1804  9405     0]\n",
            " [ 1118  9736     0]\n",
            " [  379 10477     0]]\n",
            "Sensitivity: 0.16\n",
            "Specificity: 0.90\n"
          ]
        },
        {
          "output_type": "stream",
          "name": "stderr",
          "text": [
            "/usr/local/lib/python3.10/dist-packages/sklearn/metrics/_classification.py:1344: UndefinedMetricWarning: Precision and F-score are ill-defined and being set to 0.0 in labels with no predicted samples. Use `zero_division` parameter to control this behavior.\n",
            "  _warn_prf(average, modifier, msg_start, len(result))\n",
            "/usr/local/lib/python3.10/dist-packages/sklearn/metrics/_classification.py:1344: UndefinedMetricWarning: Precision and F-score are ill-defined and being set to 0.0 in labels with no predicted samples. Use `zero_division` parameter to control this behavior.\n",
            "  _warn_prf(average, modifier, msg_start, len(result))\n",
            "/usr/local/lib/python3.10/dist-packages/sklearn/metrics/_classification.py:1344: UndefinedMetricWarning: Precision and F-score are ill-defined and being set to 0.0 in labels with no predicted samples. Use `zero_division` parameter to control this behavior.\n",
            "  _warn_prf(average, modifier, msg_start, len(result))\n"
          ]
        }
      ],
      "source": [
        "import tensorflow as tf\n",
        "from tensorflow.keras.models import Sequential\n",
        "from tensorflow.keras.layers import Dense\n",
        "from sklearn.model_selection import train_test_split\n",
        "from sklearn.metrics import classification_report, confusion_matrix\n",
        "\n",
        "# Assuming model is already defined, compiled, and trained\n",
        "# Example data generation and preprocessing not shown here\n",
        "\n",
        "# Predicting on the test set\n",
        "y_pred = model.predict(X_test)\n",
        "y_pred = (y_pred > 0.5).astype(int)  # Convert probabilities to binary labels\n",
        "\n",
        "# Generate the classification report\n",
        "report = classification_report(y_test, y_pred)\n",
        "print(\"Classification Report:\\n\", report)\n",
        "\n",
        "# Calculating the confusion matrix\n",
        "conf_matrix = confusion_matrix(y_test, y_pred)\n",
        "print(\"Confusion Matrix:\\n\", conf_matrix)\n",
        "\n",
        "# Extracting true positives, false negatives, false positives, and true negatives\n",
        "tp = conf_matrix[0, 0]  # True positives\n",
        "fn = conf_matrix[0, 1]  # False negatives\n",
        "fp = conf_matrix[1, 0]  # False positives\n",
        "tn = conf_matrix[1, 1]  # True negatives\n",
        "\n",
        "# Calculating sensitivity and specificity\n",
        "sensitivity = tp / (tp + fn)  # Also known as recall\n",
        "specificity = tn / (tn + fp)\n",
        "print(f\"Sensitivity: {sensitivity:.2f}\")\n",
        "print(f\"Specificity: {specificity:.2f}\")\n"
      ]
    },
    {
      "cell_type": "code",
      "execution_count": null,
      "metadata": {
        "id": "1kNQai2QPVip",
        "colab": {
          "base_uri": "https://localhost:8080/",
          "height": 564
        },
        "outputId": "c3eed4f9-497d-435a-fc94-645452be7632"
      },
      "outputs": [
        {
          "output_type": "display_data",
          "data": {
            "text/plain": [
              "<Figure size 800x600 with 1 Axes>"
            ],
            "image/png": "[encoded data removed]"
          },
          "metadata": {}
        }
      ],
      "source": [
        "import matplotlib.pyplot as plt\n",
        "\n",
        "# Model names\n",
        "models = ['ANN', 'Logistic Regression', 'Random Forest', 'Decision Tree','KNN','Gradient Boosting','Naive Bayes']\n",
        "\n",
        "# Model accuracies (replace these values with your actual accuracy values)\n",
        "accuracies = [accuracy_ann, accuracy_lr,accuracy_rf,accuracy_dt,accuracy_knn,accuracy_gbm,accuracy_nb]\n",
        "\n",
        "# Plot\n",
        "plt.figure(figsize=(8, 6))  # Set the figure size\n",
        "plt.barh(models, accuracies, color='skyblue')  # Horizontal bar chart\n",
        "plt.xlabel('Accuracy')  # Label for x-axis\n",
        "plt.ylabel('Models')    # Label for y-axis\n",
        "plt.title('Model Accuracies')  # Title of the plot\n",
        "plt.xlim(0, 1)  # Limit x-axis from 0 to 1 (assuming accuracy is a percentage)\n",
        "plt.grid(axis='x')  # Add gridlines for x-axis\n",
        "plt.show()  # Show plot\n"
      ]
    },
    {
      "cell_type": "code",
      "source": [],
      "metadata": {
        "id": "aqZ1WX8AIxVE"
      },
      "execution_count": null,
      "outputs": []
    }
  ],
  "metadata": {
    "colab": {
      "provenance": []
    },
    "kernelspec": {
      "display_name": "Python 3",
      "name": "python3"
    },
    "language_info": {
      "name": "python"
    }
  },
  "nbformat": 4,
  "nbformat_minor": 0
}